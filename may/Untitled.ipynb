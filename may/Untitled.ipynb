{
 "cells": [
  {
   "cell_type": "code",
   "execution_count": 1,
   "metadata": {},
   "outputs": [],
   "source": [
    "import numpy as np\n",
    "import os\n",
    "import time\n",
    "def fun(x,y,z):\n",
    "    return (x&z)*(y&z)"
   ]
  },
  {
   "cell_type": "code",
   "execution_count": 2,
   "metadata": {},
   "outputs": [],
   "source": [
    "def test(x,y,l,r):\n",
    "    m = l\n",
    "    for i in range(l,r+1):\n",
    "#         print(i, fun(x,y,i))\n",
    "        if(fun(x,y,i) > fun(x,y,m)):\n",
    "            m = i\n",
    "\n",
    "#     print(\"x\", binn(x),x)\n",
    "#     print(\"z\", binn(m),m)    \n",
    "#     print(\"y\", binn(y),y)\n",
    "#     print(\"l\", binn(l),l)\n",
    "#     print(\"r\", binn(r),r)\n",
    "#     print(m, f(x,y,m))\n",
    "#     print(\"------------------\")\n",
    "    return m"
   ]
  },
  {
   "cell_type": "code",
   "execution_count": 3,
   "metadata": {},
   "outputs": [],
   "source": [
    "def binn(x):\n",
    "    c = bin(x)[2:]\n",
    "    l = len(c)\n",
    "    return (20-l)*'0' + c"
   ]
  },
  {
   "cell_type": "code",
   "execution_count": null,
   "metadata": {},
   "outputs": [],
   "source": [
    "found = False\n",
    "while(not found):\n",
    "    n = 100\n",
    "    s = str(n) + '\\n'\n",
    "    ans= ''\n",
    "    inn = []\n",
    "    for t in range(n):\n",
    "        l = np.random.randint(1000)\n",
    "        r = l + np.random.randint(1000)\n",
    "        x = np.random.randint(1000)\n",
    "        y = np.random.randint(1000)\n",
    "        inn.append([x,y,l,r])\n",
    "        res = test(x,y,l,r)\n",
    "        ans += str(res) + '\\n'\n",
    "        s+=str(x) + ' ' +str(y) + ' ' + str(l) + ' ' + str(r) + '\\n'\n",
    "\n",
    "    f = open('inp2', 'w+')\n",
    "    f.write(s)\n",
    "    f.close()\n",
    "\n",
    "    time.sleep(0.1)\n",
    "\n",
    "\n",
    "    os.system('./a.out < inp2 > out2')\n",
    "    f2 = open('./out2')\n",
    "\n",
    "    res_my = f2.read()\n",
    "    f2.close()\n",
    "    if(ans != res_my):\n",
    "\n",
    "            print(ans)\n",
    "            print(res_my)\n",
    "            print('-----------')\n",
    "            found = 1"
   ]
  },
  {
   "cell_type": "code",
   "execution_count": 360,
   "metadata": {},
   "outputs": [
    {
     "data": {
      "text/plain": [
       "'00000000000000110111'"
      ]
     },
     "execution_count": 360,
     "metadata": {},
     "output_type": "execute_result"
    }
   ],
   "source": [
    "binn(16|55)"
   ]
  },
  {
   "cell_type": "code",
   "execution_count": 359,
   "metadata": {},
   "outputs": [
    {
     "data": {
      "text/plain": [
       "'00000000000010100011'"
      ]
     },
     "execution_count": 359,
     "metadata": {},
     "output_type": "execute_result"
    }
   ],
   "source": [
    "binn(163)"
   ]
  },
  {
   "cell_type": "code",
   "execution_count": 356,
   "metadata": {},
   "outputs": [
    {
     "data": {
      "text/plain": [
       "'00000000000001001011'"
      ]
     },
     "execution_count": 356,
     "metadata": {},
     "output_type": "execute_result"
    }
   ],
   "source": [
    "binn(75)"
   ]
  },
  {
   "cell_type": "code",
   "execution_count": 15,
   "metadata": {},
   "outputs": [],
   "source": [
    "def tr(x,y,l,r):\n",
    "    for i in range(l, r+1):\n",
    "        print(i, fun(x,y,i))"
   ]
  },
  {
   "cell_type": "code",
   "execution_count": 355,
   "metadata": {},
   "outputs": [
    {
     "name": "stdout",
     "output_type": "stream",
     "text": [
      "0 0\n",
      "1 0\n",
      "2 0\n",
      "3 0\n",
      "4 0\n",
      "5 0\n",
      "6 0\n",
      "7 0\n",
      "8 0\n",
      "9 8\n",
      "10 16\n",
      "11 24\n",
      "12 0\n",
      "13 8\n",
      "14 16\n",
      "15 24\n",
      "16 0\n",
      "17 0\n",
      "18 0\n",
      "19 0\n",
      "20 0\n",
      "21 0\n",
      "22 0\n",
      "23 0\n",
      "24 0\n",
      "25 8\n",
      "26 16\n",
      "27 24\n",
      "28 0\n",
      "29 8\n",
      "30 16\n",
      "31 24\n",
      "32 0\n",
      "33 0\n",
      "34 0\n",
      "35 0\n",
      "36 0\n",
      "37 0\n",
      "38 0\n",
      "39 0\n",
      "40 0\n",
      "41 8\n",
      "42 16\n",
      "43 24\n",
      "44 0\n",
      "45 8\n",
      "46 16\n",
      "47 24\n",
      "48 0\n",
      "49 0\n",
      "50 0\n",
      "51 0\n",
      "52 0\n",
      "53 0\n",
      "54 0\n",
      "55 0\n",
      "56 0\n",
      "57 8\n",
      "58 16\n",
      "59 24\n",
      "60 0\n",
      "61 8\n",
      "62 16\n",
      "63 24\n",
      "64 0\n",
      "65 0\n",
      "66 0\n",
      "67 0\n",
      "68 0\n",
      "69 0\n",
      "70 0\n",
      "71 0\n",
      "72 0\n",
      "73 8\n",
      "74 16\n",
      "75 24\n",
      "76 0\n",
      "77 8\n",
      "78 16\n",
      "79 24\n",
      "80 0\n",
      "81 0\n",
      "82 0\n",
      "83 0\n",
      "84 0\n",
      "85 0\n",
      "86 0\n",
      "87 0\n",
      "88 0\n",
      "89 8\n",
      "90 16\n",
      "91 24\n",
      "92 0\n",
      "93 8\n",
      "94 16\n",
      "95 24\n",
      "96 0\n",
      "97 0\n",
      "98 0\n",
      "99 0\n",
      "100 0\n",
      "101 0\n",
      "102 0\n",
      "103 0\n",
      "104 0\n",
      "105 8\n",
      "106 16\n",
      "107 24\n",
      "108 0\n",
      "109 8\n",
      "110 16\n",
      "111 24\n",
      "112 0\n",
      "113 0\n",
      "114 0\n",
      "115 0\n",
      "116 0\n",
      "117 0\n",
      "118 0\n",
      "119 0\n",
      "120 0\n",
      "121 8\n",
      "122 16\n",
      "123 24\n",
      "124 0\n",
      "125 8\n",
      "126 16\n",
      "127 24\n",
      "128 0\n",
      "129 0\n",
      "130 0\n"
     ]
    }
   ],
   "source": [
    "tr(8,3,0,130)"
   ]
  },
  {
   "cell_type": "code",
   "execution_count": 348,
   "metadata": {},
   "outputs": [
    {
     "data": {
      "text/plain": [
       "'00000000000001001111'"
      ]
     },
     "execution_count": 348,
     "metadata": {},
     "output_type": "execute_result"
    }
   ],
   "source": [
    "binn(79)"
   ]
  },
  {
   "cell_type": "code",
   "execution_count": 180,
   "metadata": {},
   "outputs": [
    {
     "data": {
      "text/plain": [
       "'00000000001111111111'"
      ]
     },
     "execution_count": 180,
     "metadata": {},
     "output_type": "execute_result"
    }
   ],
   "source": [
    "# x 00000000001111111111 1023\n",
    "# z 00000000000110010001 401\n",
    "# y 00000000001010100001 673\n",
    "# l 00000000000001001110 78\n",
    "# r 00000000000110010010 402\n",
    "\n",
    "binn(1023| 673)"
   ]
  },
  {
   "cell_type": "code",
   "execution_count": 339,
   "metadata": {},
   "outputs": [
    {
     "data": {
      "text/plain": [
       "31"
      ]
     },
     "execution_count": 339,
     "metadata": {},
     "output_type": "execute_result"
    }
   ],
   "source": [
    "2**5 - 1"
   ]
  },
  {
   "cell_type": "code",
   "execution_count": null,
   "metadata": {},
   "outputs": [],
   "source": []
  },
  {
   "cell_type": "code",
   "execution_count": 139,
   "metadata": {},
   "outputs": [
    {
     "data": {
      "text/plain": [
       "[1, 2, 3, 4, 5, 6]"
      ]
     },
     "execution_count": 139,
     "metadata": {},
     "output_type": "execute_result"
    }
   ],
   "source": [
    "req"
   ]
  },
  {
   "cell_type": "code",
   "execution_count": 136,
   "metadata": {},
   "outputs": [],
   "source": [
    "def fun(op):\n",
    "    global p\n",
    "    c = p[op[0]]\n",
    "    p[op[0]] = p[op[2]]\n",
    "    p[op[2]] = p[op[1]]\n",
    "    p[op[1]] = c"
   ]
  },
  {
   "cell_type": "code",
   "execution_count": 138,
   "metadata": {},
   "outputs": [],
   "source": []
  },
  {
   "cell_type": "code",
   "execution_count": 134,
   "metadata": {},
   "outputs": [],
   "source": [
    "# 1\n",
    "# 6 3\n",
    "# 3 4 6 2 1 5\n"
   ]
  },
  {
   "cell_type": "code",
   "execution_count": 149,
   "metadata": {},
   "outputs": [],
   "source": [
    "t = 1\n",
    "\n",
    "for i in range(50):\n",
    "    n = np.random.randint(1,10)\n",
    "    k = int(n/2)\n",
    "    p = np.random.permutation(n) + 1\n",
    "    pp = p.copy()\n",
    "    s = '1\\n'\n",
    "    s+=str(n) + ' ' + str(k) + '\\n'\n",
    "    for i in p:\n",
    "        s+=str(i)+' '\n",
    "    s+='\\n'\n",
    "    f = open('input','w+')\n",
    "    f.write(s)\n",
    "    f.close()\n",
    "    os.system('./a.out < input > out')\n",
    "    time.sleep(0.1)\n",
    "    ff = open('out')\n",
    "    ans = ff.read()\n",
    "    ans = ans.split('\\n')\n",
    "    m = int(ans[0])\n",
    "    if(m==-1):\n",
    "        continue\n",
    "\n",
    "    for i in range(m):\n",
    "        op = ans[i+1].split()\n",
    "        op = np.array(list(map(int,op)))-1\n",
    "        fun(op)\n",
    "\n",
    "    req = [i+1 for i in range(n)]\n",
    "    if(list(p)!=req):\n",
    "        print(\"found\")\n",
    "        print(p,n,k, ans, pp)"
   ]
  },
  {
   "cell_type": "code",
   "execution_count": 18,
   "metadata": {},
   "outputs": [
    {
     "ename": "KeyboardInterrupt",
     "evalue": "",
     "output_type": "error",
     "traceback": [
      "\u001b[0;31m---------------------------------------------------------------------------\u001b[0m",
      "\u001b[0;31mKeyboardInterrupt\u001b[0m                         Traceback (most recent call last)",
      "\u001b[0;32m<ipython-input-18-d347844298ae>\u001b[0m in \u001b[0;36m<module>\u001b[0;34m\u001b[0m\n\u001b[1;32m     16\u001b[0m     \u001b[0my\u001b[0m \u001b[0;34m=\u001b[0m \u001b[0mnp\u001b[0m\u001b[0;34m.\u001b[0m\u001b[0mrandom\u001b[0m\u001b[0;34m.\u001b[0m\u001b[0mrandint\u001b[0m\u001b[0;34m(\u001b[0m\u001b[0;36m1\u001b[0m\u001b[0;34m,\u001b[0m\u001b[0mn\u001b[0m\u001b[0;34m)\u001b[0m\u001b[0;34m\u001b[0m\u001b[0;34m\u001b[0m\u001b[0m\n\u001b[1;32m     17\u001b[0m     \u001b[0;32mwhile\u001b[0m\u001b[0;34m(\u001b[0m\u001b[0my\u001b[0m \u001b[0;34m==\u001b[0m \u001b[0mx\u001b[0m\u001b[0;34m)\u001b[0m\u001b[0;34m:\u001b[0m\u001b[0;34m\u001b[0m\u001b[0;34m\u001b[0m\u001b[0m\n\u001b[0;32m---> 18\u001b[0;31m         \u001b[0my\u001b[0m \u001b[0;34m=\u001b[0m \u001b[0mnp\u001b[0m\u001b[0;34m.\u001b[0m\u001b[0mrandom\u001b[0m\u001b[0;34m.\u001b[0m\u001b[0mrandint\u001b[0m\u001b[0;34m(\u001b[0m\u001b[0;36m1\u001b[0m\u001b[0;34m,\u001b[0m\u001b[0mn\u001b[0m\u001b[0;34m)\u001b[0m\u001b[0;34m\u001b[0m\u001b[0;34m\u001b[0m\u001b[0m\n\u001b[0m\u001b[1;32m     19\u001b[0m     \u001b[0mmm\u001b[0m\u001b[0;34m.\u001b[0m\u001b[0mappend\u001b[0m\u001b[0;34m(\u001b[0m\u001b[0;34m[\u001b[0m\u001b[0mx\u001b[0m\u001b[0;34m,\u001b[0m\u001b[0my\u001b[0m\u001b[0;34m]\u001b[0m\u001b[0;34m)\u001b[0m\u001b[0;34m\u001b[0m\u001b[0;34m\u001b[0m\u001b[0m\n\u001b[1;32m     20\u001b[0m     \u001b[0ms\u001b[0m\u001b[0;34m+=\u001b[0m \u001b[0mstr\u001b[0m\u001b[0;34m(\u001b[0m\u001b[0mx\u001b[0m\u001b[0;34m)\u001b[0m \u001b[0;34m+\u001b[0m \u001b[0;34m' '\u001b[0m \u001b[0;34m+\u001b[0m \u001b[0mstr\u001b[0m\u001b[0;34m(\u001b[0m\u001b[0my\u001b[0m\u001b[0;34m)\u001b[0m \u001b[0;34m+\u001b[0m \u001b[0;34m'\\n'\u001b[0m\u001b[0;34m\u001b[0m\u001b[0;34m\u001b[0m\u001b[0m\n",
      "\u001b[0;31mKeyboardInterrupt\u001b[0m: "
     ]
    }
   ],
   "source": [
    "import numpy as np\n",
    "import os\n",
    "s = '1\\n'\n",
    "n = np.random.randint(2,7)\n",
    "m = np.random.randint(1,2*n)\n",
    "\n",
    "s+=str(n) + '\\n'\n",
    "s+= str(m) + '\\n'\n",
    "mm = []\n",
    "p = np.random.permutation(n) + 1\n",
    "for i in p:\n",
    "    s+= str(i) + ' '\n",
    "s+= '\\n'\n",
    "for i in range(m):\n",
    "    x = np.random.randint(1,n)\n",
    "    y = np.random.randint(1,n)\n",
    "    while(y == x):\n",
    "        y = np.random.randint(1,n)\n",
    "    mm.append([x,y])\n",
    "    s+= str(x) + ' ' + str(y) + '\\n'\n",
    "f = open('input','w+')\n",
    "f.write(s)\n",
    "f.close()\n",
    "os.system('./a.out < input > out')\n",
    "f1 = open('out')\n",
    "\n",
    "os.system('./nam < input > outnam')\n",
    "\n",
    "f2 = open('./outnam')\n",
    "\n",
    "o1 = f1.read()\n",
    "o2 = f2.read()\n",
    "print(o1, o2)\n",
    "if(o1 != o2):\n",
    "    print(n,m)\n",
    "    print(p)\n",
    "    print(mm)\n",
    "    \n",
    "    "
   ]
  },
  {
   "cell_type": "code",
   "execution_count": null,
   "metadata": {},
   "outputs": [],
   "source": [
    "1\n",
    " \n",
    "4 2\n",
    "[2 3 4 1]\n",
    "[[2, 3], [2, 1]]\n"
   ]
  }
 ],
 "metadata": {
  "kernelspec": {
   "display_name": "Python 3",
   "language": "python",
   "name": "python3"
  },
  "language_info": {
   "codemirror_mode": {
    "name": "ipython",
    "version": 3
   },
   "file_extension": ".py",
   "mimetype": "text/x-python",
   "name": "python",
   "nbconvert_exporter": "python",
   "pygments_lexer": "ipython3",
   "version": "3.7.7"
  }
 },
 "nbformat": 4,
 "nbformat_minor": 4
}
